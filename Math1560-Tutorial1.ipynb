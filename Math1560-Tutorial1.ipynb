{
 "cells": [
  {
   "cell_type": "markdown",
   "metadata": {},
   "source": [
    "# **Limits and Python!**"
   ]
  },
  {
   "cell_type": "markdown",
   "metadata": {},
   "source": [
    "## **Welcome MATH 1560 students!**\n",
    "We are going to be using some Python to explore and work through calculus concepts. Now don't worry, you don't need to be a seasoned programmer or have any previous experience. We'll just be writing some simple code and make use of powerful libraries that do the heavy lifting for us!"
   ]
  },
  {
   "cell_type": "markdown",
   "metadata": {},
   "source": [
    "## **Python Basics**"
   ]
  },
  {
   "cell_type": "markdown",
   "metadata": {},
   "source": [
    "**Now to get started, let's dive into some Python!**\n"
   ]
  },
  {
   "cell_type": "markdown",
   "metadata": {},
   "source": [
    "First, we can look at some basic arithmetic operations in Python. You'll notice that it understands the standard mathmatical symbols and operations just like a simple calculator would. Feel free to play around with the code cells below or anywhere else in the notebook!  \n",
    "&rarr; Run the code cells below to see their results by hitting `shift + enter`."
   ]
  },
  {
   "cell_type": "code",
   "execution_count": null,
   "metadata": {},
   "outputs": [],
   "source": [
    "4 + 5 - 3   # Addition and Subtraction"
   ]
  },
  {
   "cell_type": "code",
   "execution_count": null,
   "metadata": {},
   "outputs": [],
   "source": [
    "5 * 8   # Multiplication"
   ]
  },
  {
   "cell_type": "code",
   "execution_count": null,
   "metadata": {},
   "outputs": [],
   "source": [
    "72 / 9  # Division (floating point - the result is a decimal)"
   ]
  },
  {
   "cell_type": "code",
   "execution_count": null,
   "metadata": {},
   "outputs": [],
   "source": [
    "72 / 9 + 3 # Division, and a sum"
   ]
  },
  {
   "cell_type": "code",
   "execution_count": null,
   "metadata": {},
   "outputs": [],
   "source": [
    "72 / (9 + 3) # Division, and a sum (is it different from the one above?)"
   ]
  },
  {
   "cell_type": "code",
   "execution_count": null,
   "metadata": {},
   "outputs": [],
   "source": [
    "2 ** 8  # Exponents"
   ]
  },
  {
   "cell_type": "markdown",
   "metadata": {},
   "source": [
    "Now, try a more complicated expression -- whatever seems good to you -- and pay attention to order of operations. If you don't get what you expect, try adding parentheses."
   ]
  },
  {
   "cell_type": "code",
   "execution_count": null,
   "metadata": {},
   "outputs": [],
   "source": []
  },
  {
   "cell_type": "markdown",
   "metadata": {},
   "source": [
    "### **Variables**"
   ]
  },
  {
   "cell_type": "markdown",
   "metadata": {},
   "source": [
    "Now let's start assigning variables with Python! They are just like the variables you are used to seeing, allowing us to add more to our calculations."
   ]
  },
  {
   "cell_type": "code",
   "execution_count": null,
   "metadata": {},
   "outputs": [],
   "source": [
    "# Variables are assigned using the '='\n",
    "x = -4\n",
    "y = 3\n",
    "z = x ** y\n",
    "print(z)    # Here we are using Python's print() function to output"
   ]
  },
  {
   "cell_type": "code",
   "execution_count": null,
   "metadata": {},
   "outputs": [],
   "source": [
    "x, y = 7, 6     # can also declare variables like this\n",
    "x * y"
   ]
  },
  {
   "cell_type": "markdown",
   "metadata": {},
   "source": [
    "Although we are likely to only be working with numbers (integers, decimals, etc.), here's a look at strings in Python:"
   ]
  },
  {
   "cell_type": "code",
   "execution_count": null,
   "metadata": {},
   "outputs": [],
   "source": [
    "a = \"Math\"\n",
    "b = \" 1560\"\n",
    "print(a + b)"
   ]
  },
  {
   "cell_type": "markdown",
   "metadata": {},
   "source": [
    "### **Functions**"
   ]
  },
  {
   "cell_type": "markdown",
   "metadata": {},
   "source": [
    "Now let's take things a step further and start working with functions. Python functions take input, perform operations, and return an output. They can be thought of as reusable blocks of code that can be called multiple times with varied inputs.\n",
    "\n",
    "Functions in Python are defined using the `def` keyword.  \n",
    "After `def`, comes the function's name and then a list of parameters, or inputs, enclosed in `()` and followed by a `:`  \n",
    "Indented after the colon is the function's body, this is the block of code that executes when you call the function.  \n",
    "In the function's body, you could find a `return` statement, this outputs or \"returns\" a particular value when the function is executed.    \n",
    "\n",
    "Below are some examples:\n"
   ]
  },
  {
   "cell_type": "code",
   "execution_count": null,
   "metadata": {},
   "outputs": [],
   "source": [
    "# Function that returns the cube of a given number\n",
    "def cube(x):\n",
    "    return x ** 3\n",
    "\n",
    "cube(3) # calling the function "
   ]
  },
  {
   "cell_type": "code",
   "execution_count": null,
   "metadata": {},
   "outputs": [],
   "source": [
    "# Function that returns the area of a circle\n",
    "def circle_area(r):\n",
    "    pi = 3.141592653589793\n",
    "    return (pi * r ** 2)\n",
    "\n",
    "radius = 9  # using a variable to pass into the function\n",
    "circle_area(radius) # calling the function"
   ]
  },
  {
   "cell_type": "markdown",
   "metadata": {},
   "source": [
    "**Note**: the Python libraries we'll be working with later, such as SymPy and NumPy, include their own definitions of $\\pi$. You often need to be careful about which one you are using! SymPy is intended for symbolic manipulation, while NumPy is used for numerical computation. We'll explore the differences below."
   ]
  },
  {
   "cell_type": "markdown",
   "metadata": {},
   "source": [
    "### **Loops**"
   ]
  },
  {
   "cell_type": "markdown",
   "metadata": {},
   "source": [
    "When programming, there are often times where we want to repeatedly perform a specfic action, like counting, or performing operations on items in a list. For these situations, we use loops.   \n",
    "In particular, we'll be using `for` loops. They have the following structure:\n",
    "```\n",
    "for item in sequence:\n",
    "    # code to be executed\n",
    "```\n",
    "`item` represents the current iteration of a loop.  \n",
    "`sequence` represents what is being iterated over, this can take many forms, such as a list or a range.  \n",
    "Indented below the `:` is the body of the loop, containing the code that is executed in each iteration.  \n",
    "\n",
    "Let's look at some examples:"
   ]
  },
  {
   "cell_type": "code",
   "execution_count": null,
   "metadata": {},
   "outputs": [],
   "source": [
    "# Prints numbers from a range\n",
    "for number in range(1, 6):\n",
    "    print(number, end=\" \")  # the \"end=...\" prints everything on a single line"
   ]
  },
  {
   "cell_type": "code",
   "execution_count": null,
   "metadata": {},
   "outputs": [],
   "source": [
    "# Here is how we define a list in python\n",
    "primes = [2, 3, 5, 7, 11] \n",
    "\n",
    "# Iterating over a list and squaring each entry\n",
    "for prime in primes:\n",
    "    print(prime**2, end=\" \")"
   ]
  },
  {
   "cell_type": "markdown",
   "metadata": {},
   "source": [
    "## **Using SymPy and NumPy**\n",
    "\n"
   ]
  },
  {
   "cell_type": "markdown",
   "metadata": {},
   "source": [
    "Python has many powerful librairies that add convenience and functionality. Two great libraries that we'll be using for doing calculus with Python, are SymPy and NumPy.  "
   ]
  },
  {
   "cell_type": "markdown",
   "metadata": {},
   "source": [
    "### **SymPy**"
   ]
  },
  {
   "cell_type": "markdown",
   "metadata": {},
   "source": [
    "SymPy is a feature rich library designed for symbolic mathematics. We can use it to do symbolic calculations and manipulations, meaning, it deals with math like we do on paper. It can simplify algebraic expressions, solve equations, perform calculus tasks like evaluating limits or computing integrals and a plethora of other mathematical operations. SymPy gives us exact symbolic answers instead of numerical approximations, making it a great tool for intuitively exploring calculus concepts.   \n",
    "\n",
    "To begin using SymPy we start by \"importing\" the library:"
   ]
  },
  {
   "cell_type": "code",
   "execution_count": null,
   "metadata": {},
   "outputs": [],
   "source": [
    "# Make sure to run this cell! (shift + enter)\n",
    "import sympy as sy\n",
    "sy.init_printing() "
   ]
  },
  {
   "cell_type": "markdown",
   "metadata": {},
   "source": [
    "The line: `import sympy as sy` loads in the SymPy library for us to use. We give it the shorthand name `sy`, so every time we call something from SymPy, we prefix it with `sy.`. This is a good way to keep things organized when we are working with multiple libraries.  \n",
    "\n",
    "The next line: `sy.init_printing()` calls SymPy's `init_printing()` function, which gets the output to be displayed as nicely formatted mathematics.\n",
    "\n",
    "A good next step is telling SymPy the variables we would like to use with the `symbols()` function."
   ]
  },
  {
   "cell_type": "code",
   "execution_count": null,
   "metadata": {},
   "outputs": [],
   "source": [
    "x, y, z = sy.symbols('x y z')    # this makes x, y, and z symbols"
   ]
  },
  {
   "cell_type": "markdown",
   "metadata": {},
   "source": [
    "Now we can get a sense of what SymPy can do:\n",
    "\n",
    "Let's represent the function, $ f(x) = x^2 -5x + 6$ in SymPy and then factor it:"
   ]
  },
  {
   "cell_type": "code",
   "execution_count": null,
   "metadata": {},
   "outputs": [],
   "source": [
    "f = x**2 - 5*x +6   # defining a symbolic expression\n",
    "f"
   ]
  },
  {
   "cell_type": "markdown",
   "metadata": {},
   "source": [
    "**Caution:** this is not a Python function like the `cube` function we defined earlier in the notebook. It is a symbolic expression, intended to be manipulated using algebra and/or calculus. It is not defined on an input/output basis. For example, try asking Python for `f(2)` by typing this in the cell below and hitting `shift + enter`:"
   ]
  },
  {
   "cell_type": "code",
   "execution_count": null,
   "metadata": {},
   "outputs": [],
   "source": [
    "f(2)"
   ]
  },
  {
   "cell_type": "markdown",
   "metadata": {},
   "source": [
    "If you do want to plug a number into a SymPy function you can, but this is considered a \"substitution\". The SymPy library has a substitution function, called `subs`, that we can use. The syntax is as follows:"
   ]
  },
  {
   "cell_type": "code",
   "execution_count": null,
   "metadata": {},
   "outputs": [],
   "source": [
    "f.subs(x,2)"
   ]
  },
  {
   "cell_type": "markdown",
   "metadata": {},
   "source": [
    "Oh look! $f(2)=0$. You may recall that the *Factor Theorem* for polynomials tells us that since $f(2)=0$, it must be true that $x-2$ is a factor of $f(x)$. Let's confirm:"
   ]
  },
  {
   "cell_type": "code",
   "execution_count": null,
   "metadata": {},
   "outputs": [],
   "source": [
    "f.factor()  # using the factor() function from SymPy"
   ]
  },
  {
   "cell_type": "markdown",
   "metadata": {},
   "source": [
    "Note the empty parentheses at the end. There are several optional arguments we could include within the parentheses.  Although none are needed here, we still need to include the parentheses as a placeholder.\n",
    "\n",
    "By default, SymPy only factors when there are *rational* roots. If you have a polynomial with irrational roots, you need to specify them as an \"extension\". Try running the two cells below."
   ]
  },
  {
   "cell_type": "code",
   "execution_count": null,
   "metadata": {},
   "outputs": [],
   "source": [
    "g = x**2-2\n",
    "g.factor()"
   ]
  },
  {
   "cell_type": "code",
   "execution_count": null,
   "metadata": {},
   "outputs": [],
   "source": [
    "g.factor(extension=sy.sqrt(2))"
   ]
  },
  {
   "cell_type": "markdown",
   "metadata": {},
   "source": [
    "### **NumPy**"
   ]
  },
  {
   "cell_type": "markdown",
   "metadata": {},
   "source": [
    "While SymPy is great for symbolic manipulation, when it comes numerical computation, NumPy is the library of choice. Think of it as a high powered calculator with a large toolset. It implements many common mathematical functions, like trigonometric functions, logarithms and more.  \n",
    "\n",
    "To start using NumPy, like we did with SymPy, we have to import it:"
   ]
  },
  {
   "cell_type": "code",
   "execution_count": null,
   "metadata": {},
   "outputs": [],
   "source": [
    "# Make sure to run this cell! (shift + enter)\n",
    "import numpy as np"
   ]
  },
  {
   "cell_type": "markdown",
   "metadata": {},
   "source": [
    "Just as before, the `import as` syntax loads in a particular Python library and creates a shorthand name for it to call functions with. In this case, when we want to use a function from NumPy, we prefix it with `np.`."
   ]
  },
  {
   "cell_type": "markdown",
   "metadata": {},
   "source": [
    "Now to walkthrough some examples:\n",
    "\n",
    "Let's call the function $\\sin(x)$ using `np.sin()` and evaluate $\\sin(π)$:"
   ]
  },
  {
   "cell_type": "code",
   "execution_count": null,
   "metadata": {},
   "outputs": [],
   "source": [
    "np.sin(np.pi) # should output a value very close to zero"
   ]
  },
  {
   "cell_type": "markdown",
   "metadata": {},
   "source": [
    "Notice how we used `np.pi`, to represent the constant $π$ in NumPy.\n",
    "\n",
    "Here's $\\tan(π/4)$ using `np.tan()`:"
   ]
  },
  {
   "cell_type": "code",
   "execution_count": null,
   "metadata": {},
   "outputs": [],
   "source": [
    "np.tan(np.pi/4) "
   ]
  },
  {
   "cell_type": "markdown",
   "metadata": {},
   "source": [
    "We can also work with logarithms!\n",
    "\n",
    "Let's try finding the natural log of Euler's number ($e$) using `np.log()` and `np.e`:"
   ]
  },
  {
   "cell_type": "code",
   "execution_count": null,
   "metadata": {},
   "outputs": [],
   "source": [
    "np.log(np.e) "
   ]
  },
  {
   "cell_type": "markdown",
   "metadata": {},
   "source": [
    "NumPy is also a bit different than SymPy when it comes to handling functions. In SymPy, we simply define symbolic expressions to represent functions:\n",
    "\n",
    "We would write something like: `f = sy.sqrt(x**3 + sy.sin(x))` (after defining 'x' as a symbol)  \n",
    "\n",
    "and then recieve a nicely formatted ouput when displaying `f`: $\\sqrt{x^3 + \\sin^2(x)}$.\n",
    "\n",
    "In NumPy however, we use the `def` syntax to define functions, like we saw earlier in the notebook. This gives us the ability to evaluate functions at specific values, and have the convenience of instant numerical outputs. \n",
    "\n",
    "Here's how we would define the same function in NumPy:"
   ]
  },
  {
   "cell_type": "code",
   "execution_count": null,
   "metadata": {},
   "outputs": [],
   "source": [
    "def g(x):\n",
    "    return np.sqrt(x**3 + np.sin(x)**2)"
   ]
  },
  {
   "cell_type": "markdown",
   "metadata": {},
   "source": [
    "We can't get Python to display `g(x)` as a formula like the one above, but we can ask it to evaluate our function at some points:"
   ]
  },
  {
   "cell_type": "code",
   "execution_count": null,
   "metadata": {},
   "outputs": [],
   "source": [
    "g(0), g(1), g(np.pi)"
   ]
  },
  {
   "cell_type": "markdown",
   "metadata": {},
   "source": [
    "## **Limits**"
   ]
  },
  {
   "cell_type": "markdown",
   "metadata": {},
   "source": [
    "**Now to put our knowledge of NumPy and SymPy to the test... and work with some limits!**"
   ]
  },
  {
   "cell_type": "markdown",
   "metadata": {},
   "source": [
    "### **Exploring a Limit Using a Table of Values**"
   ]
  },
  {
   "cell_type": "markdown",
   "metadata": {},
   "source": [
    "Let's go over an example of approximating a limit numerically!  \n",
    "\n",
    "First, let $y = f(x)$, where $f(x) = \\dfrac{\\sin(x)}{x}$.\n",
    "\n",
    "We'll explore:   $\\displaystyle \\lim_{x\\to 0}\\dfrac{\\sin(x)}{x}$\n",
    "\n",
    "\n",
    "To do the numerical approximation, we create a table of $x$ and $f(x)$ values, where $x$ is near $0$. This can be achieved using NumPy and Python.\n"
   ]
  },
  {
   "cell_type": "markdown",
   "metadata": {},
   "source": [
    "First, we define our function:"
   ]
  },
  {
   "cell_type": "code",
   "execution_count": null,
   "metadata": {},
   "outputs": [],
   "source": [
    "def f(x):\n",
    "    if x == 0:\n",
    "        return \"not defined\" # because sin(0)/0 is indeterminate\n",
    "    return np.sin(x)/x"
   ]
  },
  {
   "cell_type": "markdown",
   "metadata": {},
   "source": [
    "Next we choose some $x$ values to test our function near $x = 0$:"
   ]
  },
  {
   "cell_type": "code",
   "execution_count": null,
   "metadata": {},
   "outputs": [],
   "source": [
    "x_values = [-0.1, -0.01, -0.001, -0.0001, 0, 0.0001, 0.001, 0.01, 0.1] # using a list"
   ]
  },
  {
   "cell_type": "markdown",
   "metadata": {},
   "source": [
    "Now we compute the corresponding $f(x)$ values for the chosen $x$ values and store them:"
   ]
  },
  {
   "cell_type": "code",
   "execution_count": null,
   "metadata": {},
   "outputs": [],
   "source": [
    "results = [] # storing in a list\n",
    "\n",
    "# using a loop to compute values and set up table's columns\n",
    "for value in x_values:\n",
    "    results.append([value, f(value)]) "
   ]
  },
  {
   "cell_type": "markdown",
   "metadata": {},
   "source": [
    "Let's display our results in a table:"
   ]
  },
  {
   "cell_type": "code",
   "execution_count": null,
   "metadata": {},
   "outputs": [],
   "source": [
    "print(\"x\", \" \"*6, \"| f(x)\") # column headings\n",
    "print(\"-\"*29) \n",
    "for result in results:\n",
    "    print (result[0], \" \"*(7 - len(str(result[0]))), \"|\", result[1]) # formatting the table"
   ]
  },
  {
   "cell_type": "markdown",
   "metadata": {},
   "source": [
    "The table helps to illustrate the function's behaviour near $x = 0$, and given this behaviour, it appears that\n",
    "\n",
    "$$\\lim_{x\\to 0}\\dfrac{\\sin(x)}{x} =  1$$\n",
    "    "
   ]
  },
  {
   "cell_type": "markdown",
   "metadata": {},
   "source": [
    "Establishing this result as fact is actually quite a bit of work, involving a fair amount of trigonometry, and a result called the *squeeze theorem*. But for now, we'll cheat and ask the computer to evaluate the limit, using SymPy."
   ]
  },
  {
   "cell_type": "markdown",
   "metadata": {},
   "source": [
    "### **Evaluating Limits Using SymPy**"
   ]
  },
  {
   "cell_type": "markdown",
   "metadata": {},
   "source": [
    "To evaluate limits using SymPy, we can use the `limit()` function. The syntax is\n",
    "```\n",
    "sy.limit(expression,variable,value)\n",
    "```\n",
    "where `expression` is the function, the `variable` is usually (but not always) `x`, and the `value` is the point at which you want to take the limit.\n",
    "\n",
    "Below are some examples:"
   ]
  },
  {
   "cell_type": "markdown",
   "metadata": {},
   "source": [
    "Let's start with the example we've already seen:  \n",
    "\n",
    "$\\displaystyle \\lim_{x\\to 0}\\dfrac{\\sin(x)}{x}$\n",
    "\n",
    "Since Sympy has already been imported, and $x$ has been set as symbol, we can get straight into representing the function and evaluating:\n"
   ]
  },
  {
   "cell_type": "code",
   "execution_count": null,
   "metadata": {},
   "outputs": [],
   "source": [
    "f = sy.sin(x)/x\n",
    "f"
   ]
  },
  {
   "cell_type": "code",
   "execution_count": null,
   "metadata": {},
   "outputs": [],
   "source": [
    "sy.limit(f, x, 0) "
   ]
  },
  {
   "cell_type": "markdown",
   "metadata": {},
   "source": [
    "From our result we can see that:\n",
    "\n",
    "$\\displaystyle \\lim_{x\\to 0}\\dfrac{\\sin(x)}{x} =  1$"
   ]
  },
  {
   "cell_type": "markdown",
   "metadata": {},
   "source": [
    "Now for some more!\n",
    "\n",
    "  \n",
    "Let's evaluate:\n",
    "\n",
    "$\\displaystyle \\lim_{x\\to 1}{(x^2 + 2x + 2)}$"
   ]
  },
  {
   "cell_type": "code",
   "execution_count": null,
   "metadata": {},
   "outputs": [],
   "source": [
    "f1 = x**2 + 2*x + 2\n",
    "f1"
   ]
  },
  {
   "cell_type": "code",
   "execution_count": null,
   "metadata": {},
   "outputs": [],
   "source": [
    "sy.limit(f1, x, 1)"
   ]
  },
  {
   "cell_type": "markdown",
   "metadata": {},
   "source": [
    "The above result makes sense according to the limit properties. In particular, we know that we can evaluate the limit of a polynomial function by simply plugging in the number.\n",
    "\n",
    "In the next example, plugging in $x=1$ would give us an answer of $0/0$, which is undefined. Such expressions are called *indeterminate forms*. We saw this earlier with the expression $\\sin(x)/x$.\n",
    "\n",
    "Despite the $0/0$ result, we still get a limit!"
   ]
  },
  {
   "cell_type": "markdown",
   "metadata": {},
   "source": [
    "Example 1: $\\displaystyle \\lim_{x\\to 1}\\dfrac{x^2 -1}{x-1}$"
   ]
  },
  {
   "cell_type": "code",
   "execution_count": null,
   "metadata": {},
   "outputs": [],
   "source": [
    "f2 = (x**2 - 1) / (x - 1)\n",
    "f2"
   ]
  },
  {
   "cell_type": "code",
   "execution_count": null,
   "metadata": {},
   "outputs": [],
   "source": [
    "sy.limit(f2, x, 1)"
   ]
  },
  {
   "cell_type": "markdown",
   "metadata": {},
   "source": [
    "The reason we can evaluate this limit can be seen if we factor the numerator:"
   ]
  },
  {
   "cell_type": "code",
   "execution_count": null,
   "metadata": {},
   "outputs": [],
   "source": [
    "sy.factor(x**2-1)"
   ]
  },
  {
   "cell_type": "markdown",
   "metadata": {},
   "source": [
    "Both numerator and denominator have the factor $x-1$. Since the limit involves values of $x$ that are *close*, **but not equal to** 1, we can cancel this factor from top and bottom, and then evaluate."
   ]
  },
  {
   "cell_type": "markdown",
   "metadata": {},
   "source": [
    "Example 2: $\\displaystyle \\lim_{x\\to -3}\\dfrac{x^2 +10x + 21}{x^2+5x+6}$"
   ]
  },
  {
   "cell_type": "code",
   "execution_count": null,
   "metadata": {},
   "outputs": [],
   "source": [
    "f3 = (x**2 + 10*x + 21) / (x**2 + 5*x + 6)\n",
    "f3"
   ]
  },
  {
   "cell_type": "code",
   "execution_count": null,
   "metadata": {},
   "outputs": [],
   "source": [
    "sy.limit(f3, x, -3)"
   ]
  },
  {
   "cell_type": "markdown",
   "metadata": {},
   "source": [
    "SymPy can also handle limits at infinity. The infinity symbol is entered as `oo` (that's the letter o, twice). But we need to specify that it comes from SymPy, so we type `sy.oo`."
   ]
  },
  {
   "cell_type": "code",
   "execution_count": null,
   "metadata": {},
   "outputs": [],
   "source": [
    "sy.limit(f3,x,sy.oo)"
   ]
  },
  {
   "cell_type": "code",
   "execution_count": null,
   "metadata": {},
   "outputs": [],
   "source": []
  }
 ],
 "metadata": {
  "kernelspec": {
   "display_name": "Python 3 (ipykernel)",
   "language": "python",
   "name": "python3"
  },
  "language_info": {
   "codemirror_mode": {
    "name": "ipython",
    "version": 3
   },
   "file_extension": ".py",
   "mimetype": "text/x-python",
   "name": "python",
   "nbconvert_exporter": "python",
   "pygments_lexer": "ipython3",
   "version": "3.9.6"
  }
 },
 "nbformat": 4,
 "nbformat_minor": 4
}
