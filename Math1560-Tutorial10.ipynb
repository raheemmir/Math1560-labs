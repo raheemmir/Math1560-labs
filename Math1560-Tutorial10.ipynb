{
 "cells": [
  {
   "cell_type": "markdown",
   "metadata": {},
   "source": [
    "# **Riemann Sums and Taylor Polynomials**"
   ]
  },
  {
   "cell_type": "markdown",
   "metadata": {},
   "source": [
    "### **Welcome MATH 1560 Students!**\n",
    "\n",
    "As the title suggests, in this notebook we are going to be exploring Riemann sums and Taylor polynomials, through GeoGebra activities and Python!"
   ]
  },
  {
   "cell_type": "markdown",
   "metadata": {},
   "source": [
    "## **Approximating Area (Riemann Sums)**"
   ]
  },
  {
   "cell_type": "markdown",
   "metadata": {},
   "source": [
    "This week, you'll be getting started on Unit 4 and learn about integration...\n",
    "\n",
    "As such, in today's tutorial we are going to be approximating the area under a curve!   \n",
    "\n",
    "Let's suppose we wanted to find the area under a given curve $f(x)$ over a particular interval. Now it might not be possible to find the exact area under $f(x)$ (between the curve and the $x$-axis), but we can make approximations. Specifically, we can use rectangles to approximate the area under a curve... this is known as a Riemann Sum. With more rectangles used, the more accurate the result. This is done by partitioning the interval and drawing a rectangle of varying height in each subinterval. For example, if we were to approximate the area under $f(x)$, over the interval $[0,4]$, and wanted to use four rectangles, the subintervals would be: $[0,1], [1,2], [2,3], [3,4]$. The height of the rectangles is determined by one of three methods, either the Left Hand Rule, the Right Hand Rule, or the Midpoint Rule:  \n",
    "\n",
    "The Left Hand Rule sets the height of a rectangle to the value of the function at the left endpoint of the subinterval.  \n",
    "\n",
    "The Right Hand Rule sets the height of a rectangle to the value of the function at the right endpoint of the subinterval.  \n",
    "\n",
    "The Midpoint Rule sets the height of a rectangle to the value of the function at the midpoint (middle value) of the subinterval.\n",
    "\n"
   ]
  },
  {
   "cell_type": "markdown",
   "metadata": {},
   "source": [
    "#### **Exploring with GeoGebra:**\n",
    "\n",
    "To help illustrate the idea of aproximating the signed area between a curve and the $x$-axis with rectangles, along with Left Hand Rules, Right Hand Rules, etc... We can visualize and explore Riemann Sums with GeoGebra! \n",
    "\n",
    "Make sure to experiment with the sliders that set the number of rectangles, which method is being used (Right Hand, Midpoint, etc), the interval boundaries, and see how these changes affect the area approximation. \n",
    "\n",
    "**&rarr; Run the code cell below to start the GeoGebra applet!**"
   ]
  },
  {
   "cell_type": "code",
   "execution_count": 18,
   "metadata": {},
   "outputs": [
    {
     "data": {
      "text/html": [
       "<iframe scrolling=\"no\" title=\"Riemann Sum Activity\" src=\"https://www.geogebra.org/material/iframe/id/qezjdfc4/width/700/height/500/border/888888/sfsb/true/smb/false/stb/false/stbh/false/ai/false/asb/false/sri/false/rc/false/ld/false/sdz/true/ctl/false\" width=\"700px\" height=\"500px\" style=\"border:0px;\"> </iframe>\n"
      ],
      "text/plain": [
       "<IPython.core.display.HTML object>"
      ]
     },
     "metadata": {},
     "output_type": "display_data"
    }
   ],
   "source": [
    "%%html\n",
    "<iframe scrolling=\"no\" title=\"Riemann Sum Activity\" src=\"https://www.geogebra.org/material/iframe/id/qezjdfc4/width/700/height/500/border/888888/sfsb/true/smb/false/stb/false/stbh/false/ai/false/asb/false/sri/false/rc/false/ld/false/sdz/true/ctl/false\" width=\"700px\" height=\"500px\" style=\"border:0px;\"> </iframe>"
   ]
  },
  {
   "cell_type": "markdown",
   "metadata": {},
   "source": [
    "#### **Using Python to Compute Riemann Sums**\n",
    "\n",
    "Now that we have a decent grasp on how we use rectangles to approximate the area under a given curve, let's use Python to compute our approximations! Using Python has its benefits, as doing so yields results much faster, especially when compared to producing sketches by hand, or having to tackle problems that cannot be easily visualized, such as computing a Riemann Sum with 1000+ subintervals.\n",
    "\n",
    "##### **Getting Started With NumPy**\n",
    "Just as in previous notebooks, we first have to \"import\" the library we want to use, so we can access its functionality. In this case, we are going to be using NumPy.  \n",
    "**&rarr; Run the code cell below!**"
   ]
  },
  {
   "cell_type": "code",
   "execution_count": 19,
   "metadata": {},
   "outputs": [],
   "source": [
    "import numpy as np      # make sure to run this cell! (shift + enter, or use the play button at the top)"
   ]
  },
  {
   "cell_type": "markdown",
   "metadata": {},
   "source": [
    "Similar to our Newton's Method activity in the last notebook, we are going to be using a Python function to approximate the area under a particular curve, or put another way, one that computes the Riemann Sum of a given function for some interval. \n",
    "\n",
    "This function is defined in the code cell below, and is the [implementation](https://patrickwalls.github.io/mathematicalpython/integration/riemann-sums/) given by Patrick Walls of UBC.\n",
    "\n",
    "Since it has already been created, we can call it like we would any other function, and get right into using it for approximating area!\n",
    "\n",
    "We can call it like so:\n",
    "\n",
    "`riemann_sum(f, a, b, N, method)`\n",
    "\n",
    "`f` represents the function that is being inputed. We are trying to approximate the area under this curve. Note that this is a traditional Python function, made with the `def` keyword and defined on an input/output basis. Not like the symbolic representations with SymPy we've mainly been using up to this point.  \n",
    "\n",
    "`a` represents the lower bound / endpoint of the interval we are approximating over.\n",
    "\n",
    "`b` represents the upper bound / endpoint of the interval we are approximating over.  \n",
    "\n",
    "`N` is the number of equally sized subintervals that partition $[a,b]$ (i.e. how many rectangles/subintervals are we using?)  \n",
    "\n",
    "`method` determines which rule we use, the Left Hand rule, Right Hand rule, or Midpoint rule.   \n",
    "We specify which method we would like to use as follows: `'left'` for the Left Hand rule, `'right'` for the Right Hand rule, and `'midpoint'` for the Midpoint rule, making sure to surround our choice with either single or double quotes.\n",
    "\n",
    "**&rarr; Run the code cell below to define the function!**\n",
    "\n",
    "\n",
    "\n",
    "\n"
   ]
  },
  {
   "cell_type": "code",
   "execution_count": 20,
   "metadata": {},
   "outputs": [],
   "source": [
    "def riemann_sum(f,a,b,N,method):\n",
    "    dx = (b - a)/N\n",
    "    x = np.linspace(a,b,N+1)\n",
    "\n",
    "    if method == 'left':\n",
    "        x_left = x[:-1]\n",
    "        return np.sum(f(x_left)*dx)\n",
    "    elif method == 'right':\n",
    "        x_right = x[1:]\n",
    "        return np.sum(f(x_right)*dx)\n",
    "    elif method == 'midpoint':\n",
    "        x_mid = (x[:-1] + x[1:])/2\n",
    "        return np.sum(f(x_mid)*dx)\n",
    "    else:\n",
    "        raise ValueError(\"Method must be 'left', 'right' or 'midpoint'.\")"
   ]
  },
  {
   "cell_type": "markdown",
   "metadata": {},
   "source": [
    "##### **Now let's do an example!**\n",
    "\n",
    "**Let's approximate the area under $f(x) = 4x - x^2$ using the Left Hand Rule, and $4$ sub-intervals, over the interval $[0,4]$.**\n",
    "\n",
    "First, we have to define the Python function that we will be inputting into `riemann_sum()`:\n",
    "\n",
    "**&rarr; Run the code cell below! Notice how we used the `def` keyword and the format (or syntax) used to define the function.**"
   ]
  },
  {
   "cell_type": "code",
   "execution_count": 21,
   "metadata": {},
   "outputs": [],
   "source": [
    "def f(x):\n",
    "    return 4*x - x**2"
   ]
  },
  {
   "cell_type": "markdown",
   "metadata": {},
   "source": [
    "**Now let's call the `riemann_sum()` function!**\n",
    "\n",
    "**&rarr; Run the code cell below! Notice how we specify that we are using the Left Hand Rule.**"
   ]
  },
  {
   "cell_type": "code",
   "execution_count": 22,
   "metadata": {},
   "outputs": [
    {
     "data": {
      "image/png": "[encoded data removed]",
      "text/latex": [
       "$\\displaystyle 10.0$"
      ],
      "text/plain": [
       "10.0"
      ]
     },
     "execution_count": 22,
     "metadata": {},
     "output_type": "execute_result"
    }
   ],
   "source": [
    "riemann_sum(f, 0, 4, 4, \"left\") "
   ]
  },
  {
   "cell_type": "markdown",
   "metadata": {},
   "source": [
    "Great! The function took in our inputs and gave the desired output.   \n",
    "If you would like to see more of this particular example, have a look at the [textbook](https://opentext.uleth.ca/apex-standard/sec_riemann.html#ex_rie2) where the other methods are also used, along with visuals."
   ]
  },
  {
   "cell_type": "markdown",
   "metadata": {},
   "source": [
    "##### **Let's try another example!**\n",
    "\n",
    "**Let's approximate the area under $f(x) = 3x^2 -3$ on the interval $[-2,2]$, with 3 subintervals, using the Right Hand Rule.**\n",
    "\n",
    "Again, we first have to define the Python function that we will be inputting into `riemann_sum()`:\n",
    "\n",
    "**&rarr; Run the code cell below!**"
   ]
  },
  {
   "cell_type": "code",
   "execution_count": 23,
   "metadata": {},
   "outputs": [],
   "source": [
    "def f2(x):\n",
    "    return 3*x**2 -3"
   ]
  },
  {
   "cell_type": "markdown",
   "metadata": {},
   "source": [
    "**Now let's call the `riemann_sum()` function!**\n",
    "\n",
    "**&rarr; Run the code cell below! Notice how we specify that we are using the Right Hand Rule.**"
   ]
  },
  {
   "cell_type": "code",
   "execution_count": 24,
   "metadata": {},
   "outputs": [
    {
     "data": {
      "image/png": "[encoded data removed]",
      "text/latex": [
       "$\\displaystyle 7.55555555555556$"
      ],
      "text/plain": [
       "7.555555555555555"
      ]
     },
     "execution_count": 24,
     "metadata": {},
     "output_type": "execute_result"
    }
   ],
   "source": [
    "riemann_sum(f2, -2, 2, 3, \"right\") "
   ]
  },
  {
   "cell_type": "markdown",
   "metadata": {},
   "source": [
    "#### **Now it's your turn!**\n",
    "\n",
    "**Complete the following exercises using the `riemann_sum()` function! Take a look at the previous examples if you get stuck.**"
   ]
  },
  {
   "cell_type": "markdown",
   "metadata": {},
   "source": [
    "**Exercise 1:   \n",
    "Approximate the area under $f(x) = x^2 + 3$ on the interval $[0,2]$ with $8$ subintervals, using the Midpoint Rule.**\n",
    "\n",
    "**&rarr; Write your answer in the code cells below! The function you'll need to pass into `riemann_sum()` is already done for you.**"
   ]
  },
  {
   "cell_type": "code",
   "execution_count": 25,
   "metadata": {},
   "outputs": [],
   "source": [
    "def f3(x):\n",
    "    return x**2 + 3"
   ]
  },
  {
   "cell_type": "code",
   "execution_count": 12,
   "metadata": {},
   "outputs": [],
   "source": [
    "# Write the rest of the code here!"
   ]
  },
  {
   "cell_type": "markdown",
   "metadata": {},
   "source": [
    "**Exercise 2:   \n",
    "Approximate the area under $f(x) = 2\\sin(x) + 2$  on the interval $[0,1]$ with $6$ subintervals, using the Left Hand rule.**\n",
    "\n",
    "**&rarr; Write your answer in the code cells below! The function you'll need to pass into `riemann_sum()` is already done for you.**"
   ]
  },
  {
   "cell_type": "code",
   "execution_count": 27,
   "metadata": {},
   "outputs": [],
   "source": [
    "def f4(x):\n",
    "    return 2*np.sin(x) + 2"
   ]
  },
  {
   "cell_type": "code",
   "execution_count": null,
   "metadata": {},
   "outputs": [],
   "source": [
    "# Write the rest of the code here!"
   ]
  },
  {
   "cell_type": "markdown",
   "metadata": {},
   "source": [
    "**Exercise 3:   \n",
    "Approximate the area under $f(x) = \\dfrac{1}{1 + x^2}$ on the interval $[0,5]$, with $10$ subintervals, and compute the result using each of the three methods.**\n",
    "\n",
    "**&rarr; Write your answer in the code cells below! The function you'll need to pass into `riemann_sum()` is already done for you.**"
   ]
  },
  {
   "cell_type": "code",
   "execution_count": 28,
   "metadata": {},
   "outputs": [],
   "source": [
    "def f5(x):\n",
    "    return 1 / (1+x**2)"
   ]
  },
  {
   "cell_type": "code",
   "execution_count": null,
   "metadata": {},
   "outputs": [],
   "source": [
    "# Write your code here!"
   ]
  },
  {
   "cell_type": "code",
   "execution_count": null,
   "metadata": {},
   "outputs": [],
   "source": [
    "# Write your code here!"
   ]
  },
  {
   "cell_type": "code",
   "execution_count": null,
   "metadata": {},
   "outputs": [],
   "source": [
    "# Write your code here!"
   ]
  },
  {
   "cell_type": "markdown",
   "metadata": {},
   "source": [
    "## **Taylor Polynomials**"
   ]
  },
  {
   "cell_type": "markdown",
   "metadata": {},
   "source": [
    "Now, let's shift our focus from approximating the area under a curve with rectangles, to approximating functions with polynomials.  \n",
    "To be specific, we are going to be working with Taylor polynomials! Below is a formal definition:\n",
    "\n",
    "Let $f$ be a function whose first $n$ derivatives exist at $x=c$. The Taylor polynomial of degree $n$ of $f$ at $x=c$ is\n",
    "\n",
    "$$ \n",
    "p_n(x) = f(c) + f'(c)(x-c) + \\frac{f''(c)}{2!}(x-c)^2 + \\frac{f'''(c)}{3!}(x-c)^3 + \\cdots + \\frac{f^{(n)}(c)}{n!}(x-c)^n\n",
    "$$\n",
    "\n",
    "Since you've already seen Taylor polynomials in class, we can get right into the exercises and exploration!\n",
    "\n",
    "\n",
    "\n"
   ]
  },
  {
   "cell_type": "markdown",
   "metadata": {},
   "source": [
    "#### **GeoGebra Activity:**\n",
    "\n",
    "This time, we use GeoGebra to help us explore and visualize Taylor polynomials!\n",
    "\n",
    "Your task is to approximate the function $f(x) = \\cos(x)$ at $x = 0$ using $12$ terms, and state the interval in which this appears to be an accurate approximation.    \n",
    "Verifying accuracy in this case can be done visually (make sure to zoom in), and you can type your answer in the labeled markdown cell below.\n",
    "\n",
    "\n",
    "**&rarr; Run the code cell below to start up the GeoGebra applet!**"
   ]
  },
  {
   "cell_type": "code",
   "execution_count": 29,
   "metadata": {},
   "outputs": [
    {
     "data": {
      "text/html": [
       "<iframe scrolling=\"no\" title=\"Taylor Polynomial Activity\" src=\"https://www.geogebra.org/material/iframe/id/zwmptfpu/width/700/height/500/border/888888/sfsb/true/smb/false/stb/false/stbh/false/ai/false/asb/false/sri/false/rc/false/ld/false/sdz/true/ctl/false\" width=\"700px\" height=\"500px\" style=\"border:0px;\"> </iframe>\n"
      ],
      "text/plain": [
       "<IPython.core.display.HTML object>"
      ]
     },
     "metadata": {},
     "output_type": "display_data"
    }
   ],
   "source": [
    "%%html\n",
    "<iframe scrolling=\"no\" title=\"Taylor Polynomial Activity\" src=\"https://www.geogebra.org/material/iframe/id/zwmptfpu/width/700/height/500/border/888888/sfsb/true/smb/false/stb/false/stbh/false/ai/false/asb/false/sri/false/rc/false/ld/false/sdz/true/ctl/false\" width=\"700px\" height=\"500px\" style=\"border:0px;\"> </iframe>"
   ]
  },
  {
   "cell_type": "markdown",
   "metadata": {},
   "source": [
    "### Write Your Answer Here!\n",
    "Double-click on this cell to edit it, and type the answer to the above question."
   ]
  },
  {
   "cell_type": "markdown",
   "metadata": {},
   "source": [
    "#### **Using Python to Find Taylor Polynomials**\n",
    "\n",
    "When approximating functions, as in finding and using Taylor polynomials, we can of course use Python to make computations more efficient (and easy).\n",
    "\n",
    "##### **Getting Started with SymPy**\n",
    "\n",
    "This time around, we are going to be using SymPy, and just as before, we have to \"import\" (or load in) the library, to access its functionality:\n",
    "\n",
    "**&rarr; Run the code cell below!**"
   ]
  },
  {
   "cell_type": "code",
   "execution_count": 16,
   "metadata": {},
   "outputs": [],
   "source": [
    "# Make sure to run this cell!\n",
    "import sympy as sy  \n",
    "sy.init_printing()     # formats the ouput\n",
    "x = sy.symbols('x')    # this makes x a symbol"
   ]
  },
  {
   "cell_type": "markdown",
   "metadata": {},
   "source": [
    "Similar to the Riemann sum activity above, we are going to be using a Python function to find the Taylor polynomial at a particular point of a function, with a specified number of terms. Or put another way, a Python function that gives us the $n \\text{th}$ Taylor polynomial of a function at a given point.\n",
    "\n",
    "Again, this function has already been created for you and can be called like any other, so we can get straight into using it!\n",
    "\n",
    "We can call it like this:\n",
    "\n",
    "`taylor_polynomial(f, c, n)`\n",
    "\n",
    "`f` represents the \"function\" that we are inputting. It's important to note that this is not an actual Python function, it is a symbolic representation made with SymPy, like we've used in previous notebooks.  \n",
    "\n",
    "`c` is the $x$-value we are trying to find the Taylor polynomial of the function at.\n",
    "\n",
    "`n` is the number of terms we want to use (the degree of the Taylor polynomial).\n",
    "\n",
    "**&rarr; Run the code cell below to define the function!**"
   ]
  },
  {
   "cell_type": "code",
   "execution_count": 30,
   "metadata": {},
   "outputs": [],
   "source": [
    "def taylor_polynomial(f, c, n):\n",
    "    tp = 0\n",
    "    for i in range(n + 1):\n",
    "        tp = tp + (f.diff(x, i).subs(x,c)) / (sy.factorial(i))*(x - c)**i\n",
    "    return tp"
   ]
  },
  {
   "cell_type": "markdown",
   "metadata": {},
   "source": [
    "##### **Time for an example!**\n",
    "\n",
    "**Let's find the Taylor polynomial for $f(x) = \\cos(x)$ of degree $n = 8$, at $x = 0$, using the `taylor_polynomial()` function we've defined above:**\n",
    "\n",
    "**&rarr; Run the code cell below! Notice how we pass in the function.**"
   ]
  },
  {
   "cell_type": "code",
   "execution_count": 33,
   "metadata": {},
   "outputs": [
    {
     "data": {
      "image/png": "[encoded data removed]",
      "text/latex": [
       "$\\displaystyle \\frac{x^{8}}{40320} - \\frac{x^{6}}{720} + \\frac{x^{4}}{24} - \\frac{x^{2}}{2} + 1$"
      ],
      "text/plain": [
       "   8      6    4    2    \n",
       "  x      x    x    x     \n",
       "───── - ─── + ── - ── + 1\n",
       "40320   720   24   2     "
      ]
     },
     "execution_count": 33,
     "metadata": {},
     "output_type": "execute_result"
    }
   ],
   "source": [
    "p = taylor_polynomial(sy.cos(x), 0, 8)\n",
    "p"
   ]
  },
  {
   "cell_type": "markdown",
   "metadata": {},
   "source": [
    "Since we set our function call to a variable, `p`, so we can use the resulting Taylor polynomial to approximate particular values.\n",
    "\n",
    "Using our degree $8$ Taylor polynomial of $f(x) = \\cos(x)$, let's approximate $\\cos(2)$ using the `.subs()` and `.evalf()` functions:"
   ]
  },
  {
   "cell_type": "code",
   "execution_count": 32,
   "metadata": {},
   "outputs": [
    {
     "data": {
      "image/png": "[encoded data removed]",
      "text/latex": [
       "$\\displaystyle -0.415873015873016$"
      ],
      "text/plain": [
       "-0.415873015873016"
      ]
     },
     "execution_count": 32,
     "metadata": {},
     "output_type": "execute_result"
    }
   ],
   "source": [
    "p.subs(x,2).evalf()     # .evalf() gives us a decimal result"
   ]
  },
  {
   "cell_type": "markdown",
   "metadata": {},
   "source": [
    "#### **Now it's your turn!**\n",
    "\n",
    "**Complete the following exercises using the `taylor_polynomial()` function! Take a look at the previous example if you get stuck.**"
   ]
  },
  {
   "cell_type": "markdown",
   "metadata": {},
   "source": [
    "**Exercise 1:   \n",
    "Find the Taylor polynomial for $f(x) = x^2 \\cos(x)$ of degree $n = 2$, at $x = \\pi$.**\n",
    "\n",
    "**&rarr; Write your answer in the code cell below!**"
   ]
  },
  {
   "cell_type": "code",
   "execution_count": null,
   "metadata": {},
   "outputs": [],
   "source": [
    "# Write your code here!"
   ]
  },
  {
   "cell_type": "markdown",
   "metadata": {},
   "source": [
    "**Exercise 2:  \n",
    "Find the Taylor polynomial for $f(x) = e^x$ of degree $n = 5$, centred at $0$. Approximate the value of $e$ using the resulting polynomial.**"
   ]
  },
  {
   "cell_type": "code",
   "execution_count": null,
   "metadata": {},
   "outputs": [],
   "source": [
    "# Write your code here!"
   ]
  },
  {
   "cell_type": "code",
   "execution_count": null,
   "metadata": {},
   "outputs": [],
   "source": [
    "# Write your code here!"
   ]
  }
 ],
 "metadata": {
  "kernelspec": {
   "display_name": "Python 3 (ipykernel)",
   "language": "python",
   "name": "python3"
  },
  "language_info": {
   "codemirror_mode": {
    "name": "ipython",
    "version": 3
   },
   "file_extension": ".py",
   "mimetype": "text/x-python",
   "name": "python",
   "nbconvert_exporter": "python",
   "pygments_lexer": "ipython3",
   "version": "3.9.6"
  }
 },
 "nbformat": 4,
 "nbformat_minor": 4
}
